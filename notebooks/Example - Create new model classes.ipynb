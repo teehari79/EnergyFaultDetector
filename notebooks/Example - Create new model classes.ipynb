{
 "cells": [
  {
   "metadata": {},
   "cell_type": "markdown",
   "source": [
    "# Example: Create new model classes and use them within framework\n",
    "\n",
    "This notebooks shows how to create new classes within this framework.\n",
    "This enables the usage of the configuration and `FaultDetector` class and easy comparison with the existing model classes.\n",
    "\n",
    "To create new Autoencoder models, you can use either one of the existing Autoencoder-classes and inherit the fit/tune/predict methods or use the ABC `Autoencoder`-class form the `anomaly_detection.core` module. Next, the model is registered, so we can refer to it in the configuration.\n",
    "The same can be done for `AnomalyScore` and `ThresholdSelector` classes.\n",
    "\n",
    "Example models are in the `example_models` directory:\n",
    "- A simple non-symmetric autoencoder.\n",
    "- A Threshold selection method based on the telemanom model from the paper [Detecting Spacecraft Anomalies Using LSTMs and Nonparametric Dynamic Thresholding](https://doi.org/10.1145/3219819.3219845).\n",
    "\n",
    "For the usage example of the new classes the [CARE to Compare dataset](https://doi.org/10.5281/zenodo.14958989) is used."
   ],
   "id": "7d0933b25f2a9b46"
  },
  {
   "metadata": {
    "ExecuteTime": {
     "end_time": "2025-07-03T11:08:07.256963Z",
     "start_time": "2025-07-03T11:07:50.840662Z"
    }
   },
   "cell_type": "code",
   "source": [
    "import yaml\n",
    "\n",
    "from energy_fault_detector import registry, register\n",
    "from energy_fault_detector.fault_detector import FaultDetector, Config\n",
    "from energy_fault_detector.evaluation import Care2CompareDataset\n",
    "from energy_fault_detector.utils.visualisation import plot_learning_curve"
   ],
   "id": "1604ea6e85cfb223",
   "outputs": [
    {
     "name": "stdout",
     "output_type": "stream",
     "text": [
      "WARNING:tensorflow:From C:\\Users\\croelofs\\PycharmProjects\\anomaly_detection\\.venv\\Lib\\site-packages\\keras\\src\\losses.py:2976: The name tf.losses.sparse_softmax_cross_entropy is deprecated. Please use tf.compat.v1.losses.sparse_softmax_cross_entropy instead.\n",
      "\n"
     ]
    }
   ],
   "execution_count": 1
  },
  {
   "metadata": {},
   "cell_type": "markdown",
   "source": [
    "## Example with new autoencoder model"
   ],
   "id": "e4b7200bf262fc29"
  },
  {
   "cell_type": "code",
   "source": "data_path = '../../Care_To_Compare_v5'",
   "metadata": {
    "collapsed": false,
    "ExecuteTime": {
     "end_time": "2025-07-03T11:08:07.262161Z",
     "start_time": "2025-07-03T11:08:07.256963Z"
    }
   },
   "id": "bcf394b8d3254a0",
   "outputs": [],
   "execution_count": 2
  },
  {
   "metadata": {
    "ExecuteTime": {
     "end_time": "2025-07-03T11:08:07.275839Z",
     "start_time": "2025-07-03T11:08:07.262161Z"
    }
   },
   "cell_type": "code",
   "source": [
    "# register the new autoencoder class, so we can use it in the FaultDetector class\n",
    "register(\n",
    "    module_path='example_models.example_autoencoder.NewAE',  # path to new AE model class\n",
    "    class_type='autoencoder',\n",
    "    class_names=['new_ae']\n",
    ")"
   ],
   "id": "4fe9cb148c2672fe",
   "outputs": [],
   "execution_count": 3
  },
  {
   "metadata": {
    "ExecuteTime": {
     "end_time": "2025-07-03T11:08:07.281577Z",
     "start_time": "2025-07-03T11:08:07.275839Z"
    }
   },
   "cell_type": "code",
   "source": [
    "# Check that the class is available\n",
    "registry.print_available_classes()"
   ],
   "id": "949e5bf332b36ac",
   "outputs": [
    {
     "name": "stdout",
     "output_type": "stream",
     "text": [
      "\n",
      "Available classes for autoencoder:\n",
      "Class: energy_fault_detection.autoencoders.MultilayerAutoencoder \n",
      "Config names: ['MultilayerAutoencoder', 'KerasAutoencoder', 'keras_autoencoder', 'default', 'dense']\n",
      "Class: example_models.example_autoencoder.NewAE \n",
      "Config names: ['new_ae']\n",
      "\n",
      "Available classes for anomaly_score:\n",
      "Class: energy_fault_detection.anomaly_scores.MahalanobisScore \n",
      "Config names: ['MahalanobisScore', 'Mahalanobis', 'mahalanobis']\n",
      "Class: energy_fault_detection.anomaly_scores.RMSEScore \n",
      "Config names: ['RMSEScore', 'RMSE', 'rmse']\n",
      "\n",
      "Available classes for threshold_selector:\n",
      "Class: energy_fault_detection.threshold_selectors.FDRSelector \n",
      "Config names: ['FDRSelector', 'FDR_selector', 'fdr_selector', 'FDR', 'fdr']\n",
      "Class: energy_fault_detection.threshold_selectors.FbetaSelector \n",
      "Config names: ['FbetaSelector', 'Fbeta_selector', 'fbeta_selector', 'fbeta']\n",
      "Class: energy_fault_detection.threshold_selectors.QuantileThresholdSelector \n",
      "Config names: ['QuantileThresholdSelector', 'quantile_selector', 'quantile']\n",
      "Class: energy_fault_detection.threshold_selectors.AdaptiveThresholdSelector \n",
      "Config names: ['AdaptiveThresholdSelector', 'adaptive_threshold', 'SVR', 'svr', 'adaptive']\n"
     ]
    }
   ],
   "execution_count": 4
  },
  {
   "metadata": {
    "ExecuteTime": {
     "end_time": "2025-07-03T11:08:07.307485Z",
     "start_time": "2025-07-03T11:08:07.281577Z"
    }
   },
   "cell_type": "code",
   "source": [
    "# create a new configuration file\n",
    "conf = {\n",
    "    'data_clipping': {\n",
    "        'lower_percentile': 0.001,\n",
    "        'upper_percentile': 0.999\n",
    "    },\n",
    "    'data_preprocessor': {\n",
    "        'params': {\n",
    "            'include_column_selector': True,\n",
    "            'include_low_unique_value_filter': True,\n",
    "            'include_duplicate_value_to_nan': False,\n",
    "            'max_col_zero_frac': 0.99,\n",
    "            'max_nan_frac_per_col': 0.05,\n",
    "            'min_unique_value_count': 10,\n",
    "            'scale': 'minmax'\n",
    "        }\n",
    "    },\n",
    "    'data_splitter': {\n",
    "        'shuffle': True,\n",
    "        'type': 'sklearn',\n",
    "        'validation_split': 0.25\n",
    "    },\n",
    "    'autoencoder': {\n",
    "        'name': 'new_ae',  # use the new autoencoder model\n",
    "        'verbose': 0,\n",
    "        'params': {\n",
    "            'batch_size': 128,\n",
    "            'early_stopping': True,\n",
    "            'epochs': 100,\n",
    "            'encoder_layers': [300, 120, 40],\n",
    "            'decoder_layers': [50, 80, 200],\n",
    "            'code_size': 20,\n",
    "            'learning_rate': 0.005,\n",
    "        }\n",
    "    },\n",
    "    'anomaly_score': {'name': 'rmse'},\n",
    "    'threshold_selector': {\n",
    "        'fit_on_val': True,\n",
    "        'name': 'fbeta',\n",
    "        'params': {\n",
    "            'beta': 0.5\n",
    "        }\n",
    "    }\n",
    "}\n",
    "# save the configuration to file (optional)\n",
    "yaml.safe_dump({'train': conf}, open('new_ae.yaml', 'w'))\n",
    "\n",
    "config = Config('new_ae.yaml')\n",
    "# Note: alternatively, use the dictionary directly:\n",
    "# config = Config(config_dict={'train': conf})"
   ],
   "id": "32e1c48cacdd8a43",
   "outputs": [],
   "execution_count": 5
  },
  {
   "metadata": {
    "ExecuteTime": {
     "end_time": "2025-07-03T11:08:07.327723Z",
     "start_time": "2025-07-03T11:08:07.307485Z"
    }
   },
   "cell_type": "code",
   "source": [
    "model = FaultDetector(config)\n",
    "model.autoencoder  # Check autoencoder"
   ],
   "id": "1c8820645a478505",
   "outputs": [
    {
     "name": "stdout",
     "output_type": "stream",
     "text": [
      "2025-07-03 13:08:07,321 - fault_detection - INFO - Initialize models..\n"
     ]
    },
    {
     "data": {
      "text/plain": [
       "<example_models.example_autoencoder.NewAE at 0x23da0c5dd90>"
      ]
     },
     "execution_count": 6,
     "metadata": {},
     "output_type": "execute_result"
    }
   ],
   "execution_count": 6
  },
  {
   "metadata": {
    "ExecuteTime": {
     "end_time": "2025-07-03T11:08:10.397967Z",
     "start_time": "2025-07-03T11:08:07.329755Z"
    }
   },
   "cell_type": "code",
   "source": [
    "# get data and train a model\n",
    "c2c = Care2CompareDataset(data_path)\n",
    "\n",
    "event_id = 44\n",
    "train, test = c2c.get_dataset_for_event(event_id, index_column='time_stamp')\n",
    "\n",
    "y_train = train['status_type_id'] == 0\n",
    "x_train = train.drop(['asset_id', 'id', 'time_stamp', 'status_type_id'], axis=1, errors='ignore')\n",
    "y_test = test['status_type_id'] == 0\n",
    "x_test = test.drop(['asset_id', 'id', 'time_stamp', 'status_type_id'], axis=1, errors='ignore')\n",
    "\n",
    "x_train.shape, x_test.shape, y_train.shape, y_test.shape"
   ],
   "id": "d762a82b7026e1d5",
   "outputs": [
    {
     "data": {
      "text/plain": [
       "((52560, 238), (10443, 238), (52560,), (10443,))"
      ]
     },
     "execution_count": 7,
     "metadata": {},
     "output_type": "execute_result"
    }
   ],
   "execution_count": 7
  },
  {
   "metadata": {
    "ExecuteTime": {
     "end_time": "2025-07-03T11:08:45.184072Z",
     "start_time": "2025-07-03T11:08:10.397967Z"
    }
   },
   "cell_type": "code",
   "source": "train_results = model.fit(x_train, y_train, save_models=False)",
   "id": "1310bfeae9f28782",
   "outputs": [
    {
     "name": "stdout",
     "output_type": "stream",
     "text": [
      "2025-07-03 13:08:10,928 - fault_detection - INFO - Clip data before scaling.\n",
      "2025-07-03 13:08:11,471 - fault_detection - INFO - Fit preprocessor pipeline.\n",
      "2025-07-03 13:08:12,607 - fault_detection - INFO - Train autoencoder.\n",
      "1148/1148 [==============================] - 1s 1ms/step\n",
      "383/383 [==============================] - 1s 1ms/step\n",
      "1643/1643 [==============================] - 2s 1ms/step\n",
      "2025-07-03 13:08:42,267 - fault_detection - INFO - Fit threshold on validation data\n",
      "1643/1643 [==============================] - 2s 1ms/step\n",
      "2025-07-03 13:08:45,062 - fault_detection - INFO - Fit threshold.\n",
      "2025-07-03 13:08:45,127 - fault_detection - INFO - Best F_0.5 score: 0.977, threshold: 4.19\n"
     ]
    }
   ],
   "execution_count": 8
  },
  {
   "metadata": {
    "ExecuteTime": {
     "end_time": "2025-07-03T11:08:45.331977Z",
     "start_time": "2025-07-03T11:08:45.184072Z"
    }
   },
   "cell_type": "code",
   "source": [
    "plot_learning_curve(model)"
   ],
   "id": "4d391c80dacf6440",
   "outputs": [
    {
     "data": {
      "text/plain": [
       "(<Figure size 640x480 with 1 Axes>, <Axes: >)"
      ]
     },
     "execution_count": 9,
     "metadata": {},
     "output_type": "execute_result"
    },
    {
     "data": {
      "text/plain": [
       "<Figure size 640x480 with 1 Axes>"
      ],
      "image/png": "[encoded data removed]"
     },
     "metadata": {},
     "output_type": "display_data"
    }
   ],
   "execution_count": 9
  },
  {
   "metadata": {
    "ExecuteTime": {
     "end_time": "2025-07-03T11:08:45.352084Z",
     "start_time": "2025-07-03T11:08:45.331977Z"
    }
   },
   "cell_type": "code",
   "source": [
    "model.autoencoder.model.summary()"
   ],
   "id": "7ba7f2f4d9120447",
   "outputs": [
    {
     "name": "stdout",
     "output_type": "stream",
     "text": [
      "Model: \"model\"\n",
      "_________________________________________________________________\n",
      " Layer (type)                Output Shape              Param #   \n",
      "=================================================================\n",
      " input_1 (InputLayer)        [(None, 232)]             0         \n",
      "                                                                 \n",
      " dense (Dense)               (None, 300)               69900     \n",
      "                                                                 \n",
      " dense_1 (Dense)             (None, 120)               36120     \n",
      "                                                                 \n",
      " dense_2 (Dense)             (None, 40)                4840      \n",
      "                                                                 \n",
      " encoded (Dense)             (None, 20)                820       \n",
      "                                                                 \n",
      " dense_3 (Dense)             (None, 50)                1050      \n",
      "                                                                 \n",
      " dense_4 (Dense)             (None, 80)                4080      \n",
      "                                                                 \n",
      " dense_5 (Dense)             (None, 200)               16200     \n",
      "                                                                 \n",
      " dense_6 (Dense)             (None, 232)               46632     \n",
      "                                                                 \n",
      "=================================================================\n",
      "Total params: 179642 (701.73 KB)\n",
      "Trainable params: 179642 (701.73 KB)\n",
      "Non-trainable params: 0 (0.00 Byte)\n",
      "_________________________________________________________________\n"
     ]
    }
   ],
   "execution_count": 10
  },
  {
   "metadata": {},
   "cell_type": "markdown",
   "source": [
    "## New threshold selection method"
   ],
   "id": "a6b216ee5b7f25ba"
  },
  {
   "metadata": {
    "ExecuteTime": {
     "end_time": "2025-07-03T11:08:45.815064Z",
     "start_time": "2025-07-03T11:08:45.352084Z"
    }
   },
   "cell_type": "code",
   "source": [
    "import numpy as np\n",
    "import matplotlib.pyplot as plt\n",
    "import pandas as pd\n",
    "\n",
    "from example_models.example_threshold import TelemanomThreshold  # our new threshold selection method\n",
    "\n",
    "# Simulating some synthetic data\n",
    "np.random.seed(42)\n",
    "n_points = 5000\n",
    "data = np.random.normal(loc=0, scale=1, size=n_points)  # Normal data\n",
    "\n",
    "# Simulating predicted values (for example, from a model)\n",
    "predicted_values = data + np.random.normal(0, 0.5, n_points)  # Adding noise to predictions\n",
    "\n",
    "data[300:400] += 5  # Simulate an anomaly\n",
    "data[1500:1600] += 4  # Another anomaly\n",
    "data[2500:2700] += 1  # Another anomaly\n",
    "\n",
    "prediction_error = np.array([abs(y_h-y_t) for y_h, y_t in zip(predicted_values, data)])\n",
    "\n",
    "ts = TelemanomThreshold()\n",
    "# ts.fit(prediction_error)\n",
    "predicted_anomalies = ts.predict(prediction_error)\n",
    "\n",
    "plt.plot(ts.smoothed_errors, label='smoothed error')\n",
    "pd.Series(ts.smoothed_errors)[predicted_anomalies].plot(label='anomalies')\n",
    "plt.plot(ts.threshold, label='threshold')"
   ],
   "id": "9cb43cab84a07085",
   "outputs": [
    {
     "data": {
      "text/plain": [
       "[<matplotlib.lines.Line2D at 0x23dbda80690>]"
      ]
     },
     "execution_count": 11,
     "metadata": {},
     "output_type": "execute_result"
    },
    {
     "data": {
      "text/plain": [
       "<Figure size 640x480 with 1 Axes>"
      ],
      "image/png": "[encoded data removed]"
     },
     "metadata": {},
     "output_type": "display_data"
    }
   ],
   "execution_count": 11
  },
  {
   "metadata": {
    "ExecuteTime": {
     "end_time": "2025-07-03T11:08:45.819877Z",
     "start_time": "2025-07-03T11:08:45.815064Z"
    }
   },
   "cell_type": "code",
   "source": [
    "# register the new threshold method\n",
    "# register the new autoencoder class, so we can use it in the FaultDetector class\n",
    "register(\n",
    "    module_path='example_models.example_threshold.TelemanomThreshold',\n",
    "    class_type='threshold_selector',\n",
    "    class_names=['TelemanomThreshold', 'telemanom']\n",
    ")"
   ],
   "id": "9f591b70653f2284",
   "outputs": [],
   "execution_count": 12
  },
  {
   "metadata": {
    "ExecuteTime": {
     "end_time": "2025-07-03T11:08:45.833361Z",
     "start_time": "2025-07-03T11:08:45.819877Z"
    }
   },
   "cell_type": "code",
   "source": [
    "registry.print_available_classes()"
   ],
   "id": "c4483f875c1199b1",
   "outputs": [
    {
     "name": "stdout",
     "output_type": "stream",
     "text": [
      "\n",
      "Available classes for autoencoder:\n",
      "Class: energy_fault_detection.autoencoders.MultilayerAutoencoder \n",
      "Config names: ['MultilayerAutoencoder', 'KerasAutoencoder', 'keras_autoencoder', 'default', 'dense']\n",
      "Class: example_models.example_autoencoder.NewAE \n",
      "Config names: ['new_ae']\n",
      "\n",
      "Available classes for anomaly_score:\n",
      "Class: energy_fault_detection.anomaly_scores.MahalanobisScore \n",
      "Config names: ['MahalanobisScore', 'Mahalanobis', 'mahalanobis']\n",
      "Class: energy_fault_detection.anomaly_scores.RMSEScore \n",
      "Config names: ['RMSEScore', 'RMSE', 'rmse']\n",
      "\n",
      "Available classes for threshold_selector:\n",
      "Class: energy_fault_detection.threshold_selectors.FDRSelector \n",
      "Config names: ['FDRSelector', 'FDR_selector', 'fdr_selector', 'FDR', 'fdr']\n",
      "Class: energy_fault_detection.threshold_selectors.FbetaSelector \n",
      "Config names: ['FbetaSelector', 'Fbeta_selector', 'fbeta_selector', 'fbeta']\n",
      "Class: energy_fault_detection.threshold_selectors.QuantileThresholdSelector \n",
      "Config names: ['QuantileThresholdSelector', 'quantile_selector', 'quantile']\n",
      "Class: energy_fault_detection.threshold_selectors.AdaptiveThresholdSelector \n",
      "Config names: ['AdaptiveThresholdSelector', 'adaptive_threshold', 'SVR', 'svr', 'adaptive']\n",
      "Class: example_models.example_threshold.TelemanomThreshold \n",
      "Config names: ['TelemanomThreshold', 'telemanom']\n"
     ]
    }
   ],
   "execution_count": 13
  },
  {
   "metadata": {
    "ExecuteTime": {
     "end_time": "2025-07-03T11:08:45.844377Z",
     "start_time": "2025-07-03T11:08:45.833361Z"
    }
   },
   "cell_type": "code",
   "source": [
    "# configure an FaultDetector with the new model classes\n",
    "\n",
    "# create a new configuration file\n",
    "conf = {\n",
    "    'data_clipping': {\n",
    "        'lower_percentile': 0.001,\n",
    "        'upper_percentile': 0.999\n",
    "    },\n",
    "    'data_preprocessor': {\n",
    "        'params': {\n",
    "            'include_column_selector': True,\n",
    "            'include_low_unique_value_filter': True,\n",
    "            'include_duplicate_value_to_nan': False,\n",
    "            'max_col_zero_frac': 0.99,\n",
    "            'max_nan_frac_per_col': 0.05,\n",
    "            'min_unique_value_count': 10,\n",
    "            'scale': 'minmax'\n",
    "        }\n",
    "    },\n",
    "    'data_splitter': {\n",
    "        'shuffle': True,\n",
    "        'type': 'sklearn',\n",
    "        'validation_split': 0.25\n",
    "    },\n",
    "    'autoencoder': {\n",
    "        'name': 'new_ae',  # use the new autoencoder\n",
    "        'verbose': 0,\n",
    "        'params': {\n",
    "            'batch_size': 128,\n",
    "            'early_stopping': True,\n",
    "            'epochs': 100,\n",
    "            'encoder_layers': [300, 120, 40],\n",
    "            'decoder_layers': [50, 80, 200],\n",
    "            'code_size': 20,\n",
    "            'learning_rate': 0.005,\n",
    "        }\n",
    "    },\n",
    "    'anomaly_score': {'name': 'rmse'},\n",
    "    'threshold_selector': {\n",
    "        'name': 'telemanom',  # use new threshold\n",
    "        'fit_on_val': False,\n",
    "        'params': {\n",
    "            'batch_size': 72,\n",
    "            'window_size': 50\n",
    "        }\n",
    "    }\n",
    "}\n",
    "\n",
    "config = Config(config_dict={'train': conf})"
   ],
   "id": "df5411c088536b6b",
   "outputs": [],
   "execution_count": 14
  },
  {
   "metadata": {
    "ExecuteTime": {
     "end_time": "2025-07-03T11:08:45.860304Z",
     "start_time": "2025-07-03T11:08:45.845408Z"
    }
   },
   "cell_type": "code",
   "source": [
    "model = FaultDetector(config)\n",
    "model.threshold_selector"
   ],
   "id": "2029abe1ee9ace0f",
   "outputs": [
    {
     "name": "stdout",
     "output_type": "stream",
     "text": [
      "2025-07-03 13:08:45,848 - fault_detection - INFO - Initialize models..\n"
     ]
    },
    {
     "data": {
      "text/plain": [
       "TelemanomThreshold(batch_size=72, window_size=50)"
      ],
      "text/html": [
       "<style>#sk-container-id-1 {\n",
       "  /* Definition of color scheme common for light and dark mode */\n",
       "  --sklearn-color-text: #000;\n",
       "  --sklearn-color-text-muted: #666;\n",
       "  --sklearn-color-line: gray;\n",
       "  /* Definition of color scheme for unfitted estimators */\n",
       "  --sklearn-color-unfitted-level-0: #fff5e6;\n",
       "  --sklearn-color-unfitted-level-1: #f6e4d2;\n",
       "  --sklearn-color-unfitted-level-2: #ffe0b3;\n",
       "  --sklearn-color-unfitted-level-3: chocolate;\n",
       "  /* Definition of color scheme for fitted estimators */\n",
       "  --sklearn-color-fitted-level-0: #f0f8ff;\n",
       "  --sklearn-color-fitted-level-1: #d4ebff;\n",
       "  --sklearn-color-fitted-level-2: #b3dbfd;\n",
       "  --sklearn-color-fitted-level-3: cornflowerblue;\n",
       "\n",
       "  /* Specific color for light theme */\n",
       "  --sklearn-color-text-on-default-background: var(--sg-text-color, var(--theme-code-foreground, var(--jp-content-font-color1, black)));\n",
       "  --sklearn-color-background: var(--sg-background-color, var(--theme-background, var(--jp-layout-color0, white)));\n",
       "  --sklearn-color-border-box: var(--sg-text-color, var(--theme-code-foreground, var(--jp-content-font-color1, black)));\n",
       "  --sklearn-color-icon: #696969;\n",
       "\n",
       "  @media (prefers-color-scheme: dark) {\n",
       "    /* Redefinition of color scheme for dark theme */\n",
       "    --sklearn-color-text-on-default-background: var(--sg-text-color, var(--theme-code-foreground, var(--jp-content-font-color1, white)));\n",
       "    --sklearn-color-background: var(--sg-background-color, var(--theme-background, var(--jp-layout-color0, #111)));\n",
       "    --sklearn-color-border-box: var(--sg-text-color, var(--theme-code-foreground, var(--jp-content-font-color1, white)));\n",
       "    --sklearn-color-icon: #878787;\n",
       "  }\n",
       "}\n",
       "\n",
       "#sk-container-id-1 {\n",
       "  color: var(--sklearn-color-text);\n",
       "}\n",
       "\n",
       "#sk-container-id-1 pre {\n",
       "  padding: 0;\n",
       "}\n",
       "\n",
       "#sk-container-id-1 input.sk-hidden--visually {\n",
       "  border: 0;\n",
       "  clip: rect(1px 1px 1px 1px);\n",
       "  clip: rect(1px, 1px, 1px, 1px);\n",
       "  height: 1px;\n",
       "  margin: -1px;\n",
       "  overflow: hidden;\n",
       "  padding: 0;\n",
       "  position: absolute;\n",
       "  width: 1px;\n",
       "}\n",
       "\n",
       "#sk-container-id-1 div.sk-dashed-wrapped {\n",
       "  border: 1px dashed var(--sklearn-color-line);\n",
       "  margin: 0 0.4em 0.5em 0.4em;\n",
       "  box-sizing: border-box;\n",
       "  padding-bottom: 0.4em;\n",
       "  background-color: var(--sklearn-color-background);\n",
       "}\n",
       "\n",
       "#sk-container-id-1 div.sk-container {\n",
       "  /* jupyter's `normalize.less` sets `[hidden] { display: none; }`\n",
       "     but bootstrap.min.css set `[hidden] { display: none !important; }`\n",
       "     so we also need the `!important` here to be able to override the\n",
       "     default hidden behavior on the sphinx rendered scikit-learn.org.\n",
       "     See: https://github.com/scikit-learn/scikit-learn/issues/21755 */\n",
       "  display: inline-block !important;\n",
       "  position: relative;\n",
       "}\n",
       "\n",
       "#sk-container-id-1 div.sk-text-repr-fallback {\n",
       "  display: none;\n",
       "}\n",
       "\n",
       "div.sk-parallel-item,\n",
       "div.sk-serial,\n",
       "div.sk-item {\n",
       "  /* draw centered vertical line to link estimators */\n",
       "  background-image: linear-gradient(var(--sklearn-color-text-on-default-background), var(--sklearn-color-text-on-default-background));\n",
       "  background-size: 2px 100%;\n",
       "  background-repeat: no-repeat;\n",
       "  background-position: center center;\n",
       "}\n",
       "\n",
       "/* Parallel-specific style estimator block */\n",
       "\n",
       "#sk-container-id-1 div.sk-parallel-item::after {\n",
       "  content: \"\";\n",
       "  width: 100%;\n",
       "  border-bottom: 2px solid var(--sklearn-color-text-on-default-background);\n",
       "  flex-grow: 1;\n",
       "}\n",
       "\n",
       "#sk-container-id-1 div.sk-parallel {\n",
       "  display: flex;\n",
       "  align-items: stretch;\n",
       "  justify-content: center;\n",
       "  background-color: var(--sklearn-color-background);\n",
       "  position: relative;\n",
       "}\n",
       "\n",
       "#sk-container-id-1 div.sk-parallel-item {\n",
       "  display: flex;\n",
       "  flex-direction: column;\n",
       "}\n",
       "\n",
       "#sk-container-id-1 div.sk-parallel-item:first-child::after {\n",
       "  align-self: flex-end;\n",
       "  width: 50%;\n",
       "}\n",
       "\n",
       "#sk-container-id-1 div.sk-parallel-item:last-child::after {\n",
       "  align-self: flex-start;\n",
       "  width: 50%;\n",
       "}\n",
       "\n",
       "#sk-container-id-1 div.sk-parallel-item:only-child::after {\n",
       "  width: 0;\n",
       "}\n",
       "\n",
       "/* Serial-specific style estimator block */\n",
       "\n",
       "#sk-container-id-1 div.sk-serial {\n",
       "  display: flex;\n",
       "  flex-direction: column;\n",
       "  align-items: center;\n",
       "  background-color: var(--sklearn-color-background);\n",
       "  padding-right: 1em;\n",
       "  padding-left: 1em;\n",
       "}\n",
       "\n",
       "\n",
       "/* Toggleable style: style used for estimator/Pipeline/ColumnTransformer box that is\n",
       "clickable and can be expanded/collapsed.\n",
       "- Pipeline and ColumnTransformer use this feature and define the default style\n",
       "- Estimators will overwrite some part of the style using the `sk-estimator` class\n",
       "*/\n",
       "\n",
       "/* Pipeline and ColumnTransformer style (default) */\n",
       "\n",
       "#sk-container-id-1 div.sk-toggleable {\n",
       "  /* Default theme specific background. It is overwritten whether we have a\n",
       "  specific estimator or a Pipeline/ColumnTransformer */\n",
       "  background-color: var(--sklearn-color-background);\n",
       "}\n",
       "\n",
       "/* Toggleable label */\n",
       "#sk-container-id-1 label.sk-toggleable__label {\n",
       "  cursor: pointer;\n",
       "  display: flex;\n",
       "  width: 100%;\n",
       "  margin-bottom: 0;\n",
       "  padding: 0.5em;\n",
       "  box-sizing: border-box;\n",
       "  text-align: center;\n",
       "  align-items: start;\n",
       "  justify-content: space-between;\n",
       "  gap: 0.5em;\n",
       "}\n",
       "\n",
       "#sk-container-id-1 label.sk-toggleable__label .caption {\n",
       "  font-size: 0.6rem;\n",
       "  font-weight: lighter;\n",
       "  color: var(--sklearn-color-text-muted);\n",
       "}\n",
       "\n",
       "#sk-container-id-1 label.sk-toggleable__label-arrow:before {\n",
       "  /* Arrow on the left of the label */\n",
       "  content: \"▸\";\n",
       "  float: left;\n",
       "  margin-right: 0.25em;\n",
       "  color: var(--sklearn-color-icon);\n",
       "}\n",
       "\n",
       "#sk-container-id-1 label.sk-toggleable__label-arrow:hover:before {\n",
       "  color: var(--sklearn-color-text);\n",
       "}\n",
       "\n",
       "/* Toggleable content - dropdown */\n",
       "\n",
       "#sk-container-id-1 div.sk-toggleable__content {\n",
       "  display: none;\n",
       "  text-align: left;\n",
       "  /* unfitted */\n",
       "  background-color: var(--sklearn-color-unfitted-level-0);\n",
       "}\n",
       "\n",
       "#sk-container-id-1 div.sk-toggleable__content.fitted {\n",
       "  /* fitted */\n",
       "  background-color: var(--sklearn-color-fitted-level-0);\n",
       "}\n",
       "\n",
       "#sk-container-id-1 div.sk-toggleable__content pre {\n",
       "  margin: 0.2em;\n",
       "  border-radius: 0.25em;\n",
       "  color: var(--sklearn-color-text);\n",
       "  /* unfitted */\n",
       "  background-color: var(--sklearn-color-unfitted-level-0);\n",
       "}\n",
       "\n",
       "#sk-container-id-1 div.sk-toggleable__content.fitted pre {\n",
       "  /* unfitted */\n",
       "  background-color: var(--sklearn-color-fitted-level-0);\n",
       "}\n",
       "\n",
       "#sk-container-id-1 input.sk-toggleable__control:checked~div.sk-toggleable__content {\n",
       "  /* Expand drop-down */\n",
       "  display: block;\n",
       "  width: 100%;\n",
       "  overflow: visible;\n",
       "}\n",
       "\n",
       "#sk-container-id-1 input.sk-toggleable__control:checked~label.sk-toggleable__label-arrow:before {\n",
       "  content: \"▾\";\n",
       "}\n",
       "\n",
       "/* Pipeline/ColumnTransformer-specific style */\n",
       "\n",
       "#sk-container-id-1 div.sk-label input.sk-toggleable__control:checked~label.sk-toggleable__label {\n",
       "  color: var(--sklearn-color-text);\n",
       "  background-color: var(--sklearn-color-unfitted-level-2);\n",
       "}\n",
       "\n",
       "#sk-container-id-1 div.sk-label.fitted input.sk-toggleable__control:checked~label.sk-toggleable__label {\n",
       "  background-color: var(--sklearn-color-fitted-level-2);\n",
       "}\n",
       "\n",
       "/* Estimator-specific style */\n",
       "\n",
       "/* Colorize estimator box */\n",
       "#sk-container-id-1 div.sk-estimator input.sk-toggleable__control:checked~label.sk-toggleable__label {\n",
       "  /* unfitted */\n",
       "  background-color: var(--sklearn-color-unfitted-level-2);\n",
       "}\n",
       "\n",
       "#sk-container-id-1 div.sk-estimator.fitted input.sk-toggleable__control:checked~label.sk-toggleable__label {\n",
       "  /* fitted */\n",
       "  background-color: var(--sklearn-color-fitted-level-2);\n",
       "}\n",
       "\n",
       "#sk-container-id-1 div.sk-label label.sk-toggleable__label,\n",
       "#sk-container-id-1 div.sk-label label {\n",
       "  /* The background is the default theme color */\n",
       "  color: var(--sklearn-color-text-on-default-background);\n",
       "}\n",
       "\n",
       "/* On hover, darken the color of the background */\n",
       "#sk-container-id-1 div.sk-label:hover label.sk-toggleable__label {\n",
       "  color: var(--sklearn-color-text);\n",
       "  background-color: var(--sklearn-color-unfitted-level-2);\n",
       "}\n",
       "\n",
       "/* Label box, darken color on hover, fitted */\n",
       "#sk-container-id-1 div.sk-label.fitted:hover label.sk-toggleable__label.fitted {\n",
       "  color: var(--sklearn-color-text);\n",
       "  background-color: var(--sklearn-color-fitted-level-2);\n",
       "}\n",
       "\n",
       "/* Estimator label */\n",
       "\n",
       "#sk-container-id-1 div.sk-label label {\n",
       "  font-family: monospace;\n",
       "  font-weight: bold;\n",
       "  display: inline-block;\n",
       "  line-height: 1.2em;\n",
       "}\n",
       "\n",
       "#sk-container-id-1 div.sk-label-container {\n",
       "  text-align: center;\n",
       "}\n",
       "\n",
       "/* Estimator-specific */\n",
       "#sk-container-id-1 div.sk-estimator {\n",
       "  font-family: monospace;\n",
       "  border: 1px dotted var(--sklearn-color-border-box);\n",
       "  border-radius: 0.25em;\n",
       "  box-sizing: border-box;\n",
       "  margin-bottom: 0.5em;\n",
       "  /* unfitted */\n",
       "  background-color: var(--sklearn-color-unfitted-level-0);\n",
       "}\n",
       "\n",
       "#sk-container-id-1 div.sk-estimator.fitted {\n",
       "  /* fitted */\n",
       "  background-color: var(--sklearn-color-fitted-level-0);\n",
       "}\n",
       "\n",
       "/* on hover */\n",
       "#sk-container-id-1 div.sk-estimator:hover {\n",
       "  /* unfitted */\n",
       "  background-color: var(--sklearn-color-unfitted-level-2);\n",
       "}\n",
       "\n",
       "#sk-container-id-1 div.sk-estimator.fitted:hover {\n",
       "  /* fitted */\n",
       "  background-color: var(--sklearn-color-fitted-level-2);\n",
       "}\n",
       "\n",
       "/* Specification for estimator info (e.g. \"i\" and \"?\") */\n",
       "\n",
       "/* Common style for \"i\" and \"?\" */\n",
       "\n",
       ".sk-estimator-doc-link,\n",
       "a:link.sk-estimator-doc-link,\n",
       "a:visited.sk-estimator-doc-link {\n",
       "  float: right;\n",
       "  font-size: smaller;\n",
       "  line-height: 1em;\n",
       "  font-family: monospace;\n",
       "  background-color: var(--sklearn-color-background);\n",
       "  border-radius: 1em;\n",
       "  height: 1em;\n",
       "  width: 1em;\n",
       "  text-decoration: none !important;\n",
       "  margin-left: 0.5em;\n",
       "  text-align: center;\n",
       "  /* unfitted */\n",
       "  border: var(--sklearn-color-unfitted-level-1) 1pt solid;\n",
       "  color: var(--sklearn-color-unfitted-level-1);\n",
       "}\n",
       "\n",
       ".sk-estimator-doc-link.fitted,\n",
       "a:link.sk-estimator-doc-link.fitted,\n",
       "a:visited.sk-estimator-doc-link.fitted {\n",
       "  /* fitted */\n",
       "  border: var(--sklearn-color-fitted-level-1) 1pt solid;\n",
       "  color: var(--sklearn-color-fitted-level-1);\n",
       "}\n",
       "\n",
       "/* On hover */\n",
       "div.sk-estimator:hover .sk-estimator-doc-link:hover,\n",
       ".sk-estimator-doc-link:hover,\n",
       "div.sk-label-container:hover .sk-estimator-doc-link:hover,\n",
       ".sk-estimator-doc-link:hover {\n",
       "  /* unfitted */\n",
       "  background-color: var(--sklearn-color-unfitted-level-3);\n",
       "  color: var(--sklearn-color-background);\n",
       "  text-decoration: none;\n",
       "}\n",
       "\n",
       "div.sk-estimator.fitted:hover .sk-estimator-doc-link.fitted:hover,\n",
       ".sk-estimator-doc-link.fitted:hover,\n",
       "div.sk-label-container:hover .sk-estimator-doc-link.fitted:hover,\n",
       ".sk-estimator-doc-link.fitted:hover {\n",
       "  /* fitted */\n",
       "  background-color: var(--sklearn-color-fitted-level-3);\n",
       "  color: var(--sklearn-color-background);\n",
       "  text-decoration: none;\n",
       "}\n",
       "\n",
       "/* Span, style for the box shown on hovering the info icon */\n",
       ".sk-estimator-doc-link span {\n",
       "  display: none;\n",
       "  z-index: 9999;\n",
       "  position: relative;\n",
       "  font-weight: normal;\n",
       "  right: .2ex;\n",
       "  padding: .5ex;\n",
       "  margin: .5ex;\n",
       "  width: min-content;\n",
       "  min-width: 20ex;\n",
       "  max-width: 50ex;\n",
       "  color: var(--sklearn-color-text);\n",
       "  box-shadow: 2pt 2pt 4pt #999;\n",
       "  /* unfitted */\n",
       "  background: var(--sklearn-color-unfitted-level-0);\n",
       "  border: .5pt solid var(--sklearn-color-unfitted-level-3);\n",
       "}\n",
       "\n",
       ".sk-estimator-doc-link.fitted span {\n",
       "  /* fitted */\n",
       "  background: var(--sklearn-color-fitted-level-0);\n",
       "  border: var(--sklearn-color-fitted-level-3);\n",
       "}\n",
       "\n",
       ".sk-estimator-doc-link:hover span {\n",
       "  display: block;\n",
       "}\n",
       "\n",
       "/* \"?\"-specific style due to the `<a>` HTML tag */\n",
       "\n",
       "#sk-container-id-1 a.estimator_doc_link {\n",
       "  float: right;\n",
       "  font-size: 1rem;\n",
       "  line-height: 1em;\n",
       "  font-family: monospace;\n",
       "  background-color: var(--sklearn-color-background);\n",
       "  border-radius: 1rem;\n",
       "  height: 1rem;\n",
       "  width: 1rem;\n",
       "  text-decoration: none;\n",
       "  /* unfitted */\n",
       "  color: var(--sklearn-color-unfitted-level-1);\n",
       "  border: var(--sklearn-color-unfitted-level-1) 1pt solid;\n",
       "}\n",
       "\n",
       "#sk-container-id-1 a.estimator_doc_link.fitted {\n",
       "  /* fitted */\n",
       "  border: var(--sklearn-color-fitted-level-1) 1pt solid;\n",
       "  color: var(--sklearn-color-fitted-level-1);\n",
       "}\n",
       "\n",
       "/* On hover */\n",
       "#sk-container-id-1 a.estimator_doc_link:hover {\n",
       "  /* unfitted */\n",
       "  background-color: var(--sklearn-color-unfitted-level-3);\n",
       "  color: var(--sklearn-color-background);\n",
       "  text-decoration: none;\n",
       "}\n",
       "\n",
       "#sk-container-id-1 a.estimator_doc_link.fitted:hover {\n",
       "  /* fitted */\n",
       "  background-color: var(--sklearn-color-fitted-level-3);\n",
       "}\n",
       "\n",
       ".estimator-table summary {\n",
       "    padding: .5rem;\n",
       "    font-family: monospace;\n",
       "    cursor: pointer;\n",
       "}\n",
       "\n",
       ".estimator-table details[open] {\n",
       "    padding-left: 0.1rem;\n",
       "    padding-right: 0.1rem;\n",
       "    padding-bottom: 0.3rem;\n",
       "}\n",
       "\n",
       ".estimator-table .parameters-table {\n",
       "    margin-left: auto !important;\n",
       "    margin-right: auto !important;\n",
       "}\n",
       "\n",
       ".estimator-table .parameters-table tr:nth-child(odd) {\n",
       "    background-color: #fff;\n",
       "}\n",
       "\n",
       ".estimator-table .parameters-table tr:nth-child(even) {\n",
       "    background-color: #f6f6f6;\n",
       "}\n",
       "\n",
       ".estimator-table .parameters-table tr:hover {\n",
       "    background-color: #e0e0e0;\n",
       "}\n",
       "\n",
       ".estimator-table table td {\n",
       "    border: 1px solid rgba(106, 105, 104, 0.232);\n",
       "}\n",
       "\n",
       ".user-set td {\n",
       "    color:rgb(255, 94, 0);\n",
       "    text-align: left;\n",
       "}\n",
       "\n",
       ".user-set td.value pre {\n",
       "    color:rgb(255, 94, 0) !important;\n",
       "    background-color: transparent !important;\n",
       "}\n",
       "\n",
       ".default td {\n",
       "    color: black;\n",
       "    text-align: left;\n",
       "}\n",
       "\n",
       ".user-set td i,\n",
       ".default td i {\n",
       "    color: black;\n",
       "}\n",
       "\n",
       ".copy-paste-icon {\n",
       "    background-image: url(data:image/svg+xml;base64,PHN2ZyB4bWxucz0iaHR0cDovL3d3dy53My5vcmcvMjAwMC9zdmciIHZpZXdCb3g9IjAgMCA0NDggNTEyIj48IS0tIUZvbnQgQXdlc29tZSBGcmVlIDYuNy4yIGJ5IEBmb250YXdlc29tZSAtIGh0dHBzOi8vZm9udGF3ZXNvbWUuY29tIExpY2Vuc2UgLSBodHRwczovL2ZvbnRhd2Vzb21lLmNvbS9saWNlbnNlL2ZyZWUgQ29weXJpZ2h0IDIwMjUgRm9udGljb25zLCBJbmMuLS0+PHBhdGggZD0iTTIwOCAwTDMzMi4xIDBjMTIuNyAwIDI0LjkgNS4xIDMzLjkgMTQuMWw2Ny45IDY3LjljOSA5IDE0LjEgMjEuMiAxNC4xIDMzLjlMNDQ4IDMzNmMwIDI2LjUtMjEuNSA0OC00OCA0OGwtMTkyIDBjLTI2LjUgMC00OC0yMS41LTQ4LTQ4bDAtMjg4YzAtMjYuNSAyMS41LTQ4IDQ4LTQ4ek00OCAxMjhsODAgMCAwIDY0LTY0IDAgMCAyNTYgMTkyIDAgMC0zMiA2NCAwIDAgNDhjMCAyNi41LTIxLjUgNDgtNDggNDhMNDggNTEyYy0yNi41IDAtNDgtMjEuNS00OC00OEwwIDE3NmMwLTI2LjUgMjEuNS00OCA0OC00OHoiLz48L3N2Zz4=);\n",
       "    background-repeat: no-repeat;\n",
       "    background-size: 14px 14px;\n",
       "    background-position: 0;\n",
       "    display: inline-block;\n",
       "    width: 14px;\n",
       "    height: 14px;\n",
       "    cursor: pointer;\n",
       "}\n",
       "</style><body><div id=\"sk-container-id-1\" class=\"sk-top-container\"><div class=\"sk-text-repr-fallback\"><pre>TelemanomThreshold(batch_size=72, window_size=50)</pre><b>In a Jupyter environment, please rerun this cell to show the HTML representation or trust the notebook. <br />On GitHub, the HTML representation is unable to render, please try loading this page with nbviewer.org.</b></div><div class=\"sk-container\" hidden><div class=\"sk-item\"><div class=\"sk-estimator fitted sk-toggleable\"><input class=\"sk-toggleable__control sk-hidden--visually\" id=\"sk-estimator-id-1\" type=\"checkbox\" checked><label for=\"sk-estimator-id-1\" class=\"sk-toggleable__label fitted sk-toggleable__label-arrow\"><div><div>TelemanomThreshold</div></div><div><span class=\"sk-estimator-doc-link fitted\">i<span>Fitted</span></span></div></label><div class=\"sk-toggleable__content fitted\" data-param-prefix=\"\">\n",
       "        <div class=\"estimator-table\">\n",
       "            <details>\n",
       "                <summary>Parameters</summary>\n",
       "                <table class=\"parameters-table\">\n",
       "                  <tbody>\n",
       "                    \n",
       "        <tr class=\"user-set\">\n",
       "            <td><i class=\"copy-paste-icon\"\n",
       "                 onclick=\"copyToClipboard('window_size',\n",
       "                          this.parentElement.nextElementSibling)\"\n",
       "            ></i></td>\n",
       "            <td class=\"param\">window_size&nbsp;</td>\n",
       "            <td class=\"value\">50</td>\n",
       "        </tr>\n",
       "    \n",
       "\n",
       "        <tr class=\"user-set\">\n",
       "            <td><i class=\"copy-paste-icon\"\n",
       "                 onclick=\"copyToClipboard('batch_size',\n",
       "                          this.parentElement.nextElementSibling)\"\n",
       "            ></i></td>\n",
       "            <td class=\"param\">batch_size&nbsp;</td>\n",
       "            <td class=\"value\">72</td>\n",
       "        </tr>\n",
       "    \n",
       "\n",
       "        <tr class=\"default\">\n",
       "            <td><i class=\"copy-paste-icon\"\n",
       "                 onclick=\"copyToClipboard('smoothing_perc',\n",
       "                          this.parentElement.nextElementSibling)\"\n",
       "            ></i></td>\n",
       "            <td class=\"param\">smoothing_perc&nbsp;</td>\n",
       "            <td class=\"value\">0.05</td>\n",
       "        </tr>\n",
       "    \n",
       "\n",
       "        <tr class=\"default\">\n",
       "            <td><i class=\"copy-paste-icon\"\n",
       "                 onclick=\"copyToClipboard('l_s',\n",
       "                          this.parentElement.nextElementSibling)\"\n",
       "            ></i></td>\n",
       "            <td class=\"param\">l_s&nbsp;</td>\n",
       "            <td class=\"value\">10</td>\n",
       "        </tr>\n",
       "    \n",
       "\n",
       "        <tr class=\"default\">\n",
       "            <td><i class=\"copy-paste-icon\"\n",
       "                 onclick=\"copyToClipboard('error_buffer',\n",
       "                          this.parentElement.nextElementSibling)\"\n",
       "            ></i></td>\n",
       "            <td class=\"param\">error_buffer&nbsp;</td>\n",
       "            <td class=\"value\">100</td>\n",
       "        </tr>\n",
       "    \n",
       "\n",
       "        <tr class=\"default\">\n",
       "            <td><i class=\"copy-paste-icon\"\n",
       "                 onclick=\"copyToClipboard('p',\n",
       "                          this.parentElement.nextElementSibling)\"\n",
       "            ></i></td>\n",
       "            <td class=\"param\">p&nbsp;</td>\n",
       "            <td class=\"value\">0.13</td>\n",
       "        </tr>\n",
       "    \n",
       "                  </tbody>\n",
       "                </table>\n",
       "            </details>\n",
       "        </div>\n",
       "    </div></div></div></div></div><script>function copyToClipboard(text, element) {\n",
       "    // Get the parameter prefix from the closest toggleable content\n",
       "    const toggleableContent = element.closest('.sk-toggleable__content');\n",
       "    const paramPrefix = toggleableContent ? toggleableContent.dataset.paramPrefix : '';\n",
       "    const fullParamName = paramPrefix ? `${paramPrefix}${text}` : text;\n",
       "\n",
       "    const originalStyle = element.style;\n",
       "    const computedStyle = window.getComputedStyle(element);\n",
       "    const originalWidth = computedStyle.width;\n",
       "    const originalHTML = element.innerHTML.replace('Copied!', '');\n",
       "\n",
       "    navigator.clipboard.writeText(fullParamName)\n",
       "        .then(() => {\n",
       "            element.style.width = originalWidth;\n",
       "            element.style.color = 'green';\n",
       "            element.innerHTML = \"Copied!\";\n",
       "\n",
       "            setTimeout(() => {\n",
       "                element.innerHTML = originalHTML;\n",
       "                element.style = originalStyle;\n",
       "            }, 2000);\n",
       "        })\n",
       "        .catch(err => {\n",
       "            console.error('Failed to copy:', err);\n",
       "            element.style.color = 'red';\n",
       "            element.innerHTML = \"Failed!\";\n",
       "            setTimeout(() => {\n",
       "                element.innerHTML = originalHTML;\n",
       "                element.style = originalStyle;\n",
       "            }, 2000);\n",
       "        });\n",
       "    return false;\n",
       "}\n",
       "\n",
       "document.querySelectorAll('.fa-regular.fa-copy').forEach(function(element) {\n",
       "    const toggleableContent = element.closest('.sk-toggleable__content');\n",
       "    const paramPrefix = toggleableContent ? toggleableContent.dataset.paramPrefix : '';\n",
       "    const paramName = element.parentElement.nextElementSibling.textContent.trim();\n",
       "    const fullParamName = paramPrefix ? `${paramPrefix}${paramName}` : paramName;\n",
       "\n",
       "    element.setAttribute('title', fullParamName);\n",
       "});\n",
       "</script></body>"
      ]
     },
     "execution_count": 15,
     "metadata": {},
     "output_type": "execute_result"
    }
   ],
   "execution_count": 15
  },
  {
   "metadata": {
    "ExecuteTime": {
     "end_time": "2025-07-03T11:09:18.774092Z",
     "start_time": "2025-07-03T11:08:45.860304Z"
    }
   },
   "cell_type": "code",
   "source": "train_results = model.fit(x_train, y_train, save_models=False)",
   "id": "c675208cd021438e",
   "outputs": [
    {
     "name": "stdout",
     "output_type": "stream",
     "text": [
      "2025-07-03 13:08:45,978 - fault_detection - INFO - Clip data before scaling.\n",
      "2025-07-03 13:08:46,595 - fault_detection - INFO - Fit preprocessor pipeline.\n",
      "2025-07-03 13:08:47,863 - fault_detection - INFO - Train autoencoder.\n",
      "1148/1148 [==============================] - 1s 1ms/step\n",
      "383/383 [==============================] - 0s 935us/step\n",
      "1643/1643 [==============================] - 2s 1ms/step\n",
      "2025-07-03 13:09:18,732 - fault_detection - INFO - Fit threshold.\n"
     ]
    }
   ],
   "execution_count": 16
  },
  {
   "metadata": {
    "ExecuteTime": {
     "end_time": "2025-07-03T11:09:20.314173Z",
     "start_time": "2025-07-03T11:09:18.774092Z"
    }
   },
   "cell_type": "code",
   "source": [
    "# The type of threshold does not work well if almost the whole window is an anomaly\n",
    "\n",
    "from energy_fault_detector.utils.visualisation import plot_score_with_threshold\n",
    "\n",
    "plot_score_with_threshold(\n",
    "    model,\n",
    "    x_test,\n",
    "    show_predicted_anomaly=True,\n",
    "    show_threshold=False\n",
    ")"
   ],
   "id": "b91d4aec8f9c4b83",
   "outputs": [
    {
     "name": "stdout",
     "output_type": "stream",
     "text": [
      "327/327 [==============================] - 0s 922us/step\n"
     ]
    },
    {
     "data": {
      "text/plain": [
       "(<Figure size 800x300 with 1 Axes>, <Axes: ylabel='anomaly score'>)"
      ]
     },
     "execution_count": 17,
     "metadata": {},
     "output_type": "execute_result"
    },
    {
     "data": {
      "text/plain": [
       "<Figure size 800x300 with 1 Axes>"
      ],
      "image/png": "[encoded data removed]"
     },
     "metadata": {},
     "output_type": "display_data"
    }
   ],
   "execution_count": 17
  },
  {
   "metadata": {
    "ExecuteTime": {
     "end_time": "2025-07-03T11:09:29.270380Z",
     "start_time": "2025-07-03T11:09:20.317447Z"
    }
   },
   "cell_type": "code",
   "source": [
    "fig, ax = plot_score_with_threshold(\n",
    "    model,\n",
    "    pd.concat([x_train, x_test])[pd.concat([y_train, y_test])],  # try to find a threshold for the whole dataset without the anomalous statuses\n",
    "    show_predicted_anomaly=True,\n",
    "    show_threshold=False\n",
    ")\n",
    "\n",
    "ax.set_yscale('log')"
   ],
   "id": "ec7602ef1905dd84",
   "outputs": [
    {
     "name": "stdout",
     "output_type": "stream",
     "text": [
      "1826/1826 [==============================] - 2s 1ms/step\n"
     ]
    },
    {
     "data": {
      "text/plain": [
       "<Figure size 800x300 with 1 Axes>"
      ],
      "image/png": "[encoded data removed]"
     },
     "metadata": {},
     "output_type": "display_data"
    }
   ],
   "execution_count": 18
  },
  {
   "metadata": {
    "ExecuteTime": {
     "end_time": "2025-07-03T11:09:29.273939Z",
     "start_time": "2025-07-03T11:09:29.270380Z"
    }
   },
   "cell_type": "code",
   "source": "",
   "id": "a9aef3d724edf6df",
   "outputs": [],
   "execution_count": 18
  }
 ],
 "metadata": {
  "kernelspec": {
   "display_name": "Python 3",
   "language": "python",
   "name": "python3"
  },
  "language_info": {
   "codemirror_mode": {
    "name": "ipython",
    "version": 2
   },
   "file_extension": ".py",
   "mimetype": "text/x-python",
   "name": "python",
   "nbconvert_exporter": "python",
   "pygments_lexer": "ipython2",
   "version": "2.7.6"
  }
 },
 "nbformat": 4,
 "nbformat_minor": 5
}
